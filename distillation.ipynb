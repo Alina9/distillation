{
 "cells": [
  {
   "cell_type": "code",
   "execution_count": 1,
   "metadata": {
    "colab": {},
    "colab_type": "code",
    "id": "1Yt8cv-c1Jhr"
   },
   "outputs": [],
   "source": [
    "import numpy as np\n",
    "import torch\n",
    "import torch.nn as nn\n",
    "import torch.nn.functional as F\n",
    "import torch.optim as optim\n",
    "import torchvision.models as models\n",
    "from torchvision import transforms\n",
    "from torch.utils.data import DataLoader\n",
    "import torchvision"
   ]
  },
  {
   "cell_type": "code",
   "execution_count": 2,
   "metadata": {
    "colab": {},
    "colab_type": "code",
    "id": "V9wm6cSO8ZgJ"
   },
   "outputs": [],
   "source": [
    "device = torch.device(\"cuda\" if torch.cuda.is_available() else \"cpu\")"
   ]
  },
  {
   "cell_type": "markdown",
   "metadata": {
    "colab_type": "text",
    "id": "nyjQ13pQ7b4A"
   },
   "source": [
    "Загрузим датасет\n"
   ]
  },
  {
   "cell_type": "code",
   "execution_count": 3,
   "metadata": {
    "colab": {
     "base_uri": "https://localhost:8080/",
     "height": 52
    },
    "colab_type": "code",
    "id": "icaER03k7bKG",
    "outputId": "e1d1923d-f8b7-4082-bb89-4d84658b5bc7"
   },
   "outputs": [
    {
     "name": "stdout",
     "output_type": "stream",
     "text": [
      "Files already downloaded and verified\n",
      "Files already downloaded and verified\n"
     ]
    }
   ],
   "source": [
    "transform = transforms.Compose(\n",
    "    [transforms.ToTensor(),\n",
    "     transforms.Normalize(mean=[0.48501961, 0.45795686, 0.40760392], std=[0.229, 0.224, 0.225])])\n",
    "\n",
    "trainset = torchvision.datasets.CIFAR10(root='./data', train=True,\n",
    "                                        download=True, transform=transform)\n",
    "trainloader = DataLoader(trainset, batch_size=32,\n",
    "                                          shuffle=True, num_workers=2)\n",
    "\n",
    "testset = torchvision.datasets.CIFAR10(root='./data', train=False,\n",
    "                                       download=True, transform=transform)\n",
    "testloader = DataLoader(testset, batch_size=32,\n",
    "                                         shuffle=False, num_workers=2)\n",
    "\n",
    "classes = ('plane', 'car', 'bird', 'cat',\n",
    "           'deer', 'dog', 'frog', 'horse', 'ship', 'truck')"
   ]
  },
  {
   "cell_type": "markdown",
   "metadata": {
    "colab_type": "text",
    "id": "8KWorBDO8v3E"
   },
   "source": [
    "ResNet"
   ]
  },
  {
   "cell_type": "code",
   "execution_count": 0,
   "metadata": {
    "colab": {},
    "colab_type": "code",
    "id": "XlHa283j8ufY"
   },
   "outputs": [],
   "source": [
    "resnet18 = models.resnet18(pretrained=True)\n",
    "resnet18.fc = nn.Linear(512, 10)\n",
    "resnet18 = resnet18.to(device)\n",
    "optimizer = optim.Adam(resnet18.parameters(), lr = 1e-4)\n",
    "criterion = nn.CrossEntropyLoss()"
   ]
  },
  {
   "cell_type": "code",
   "execution_count": 0,
   "metadata": {
    "colab": {},
    "colab_type": "code",
    "id": "HfdiZS758KqU"
   },
   "outputs": [],
   "source": [
    "def train(model, optimizer, criterion, epoch, alpha = 1, teacher = None):\n",
    "    model.train()\n",
    "\n",
    "    for e in range(epoch):\n",
    "        total_loss = 0\n",
    "        total_correct = 0\n",
    "        for img, label in trainloader:\n",
    "            img = img.to(device)\n",
    "            label = label.to(device)\n",
    "\n",
    "            optimizer.zero_grad()\n",
    "            model_label = model(img)\n",
    "            loss_teacher = 0\n",
    "            if teacher is not None:\n",
    "                teacher_label = teacher(img)\n",
    "                loss_teacher = F.mse_loss(F.softmax(model_label,-1), F.softmax(teacher_label,-1))\n",
    "            else:\n",
    "                alpha = 1\n",
    "            loss = alpha*criterion(model_label, label) + (1 - alpha)*loss_teacher\n",
    "\n",
    "            loss.backward()\n",
    "            optimizer.step()\n",
    "            total_loss+=loss\n",
    "            _, predict_labels = torch.max(F.softmax(model_label,-1), 1)\n",
    "            total_correct+= torch.sum(predict_labels == label.data)\n",
    "    print(\"Epoch: {}, epoch_loss: {:.5}, epoch_correct: {}\".format((e+1), total_loss, total_correct))\n",
    "    return model"
   ]
  },
  {
   "cell_type": "code",
   "execution_count": 0,
   "metadata": {
    "colab": {},
    "colab_type": "code",
    "id": "q2YzpJc4G2IJ"
   },
   "outputs": [],
   "source": [
    "def test(model):\n",
    "    acc = 0.0\n",
    "    for img, label in testloader:\n",
    "        img = img.to(device)\n",
    "        label = label.to(device)\n",
    "\n",
    "        model_label = model(img)\n",
    "        _, predict_labels = torch.max(F.softmax(model_label,-1), 1)\n",
    "        acc += torch.sum(predict_labels == label.data)\n",
    "    return acc/len(testset)"
   ]
  },
  {
   "cell_type": "code",
   "execution_count": 7,
   "metadata": {
    "colab": {
     "base_uri": "https://localhost:8080/",
     "height": 195
    },
    "colab_type": "code",
    "id": "GrXZDk5aCDqV",
    "outputId": "d7164562-97a8-4ced-9969-58b515eaa918"
   },
   "outputs": [
    {
     "name": "stdout",
     "output_type": "stream",
     "text": [
      "Epoch: 1, epoch_loss: 1545.5, epoch_correct: 33011\n",
      "Epoch: 2, epoch_loss: 985.5, epoch_correct: 39160\n",
      "Epoch: 3, epoch_loss: 746.78, epoch_correct: 41803\n",
      "Epoch: 4, epoch_loss: 563.1, epoch_correct: 43762\n",
      "Epoch: 5, epoch_loss: 441.34, epoch_correct: 45065\n",
      "Epoch: 6, epoch_loss: 337.31, epoch_correct: 46249\n",
      "Epoch: 7, epoch_loss: 270.61, epoch_correct: 47029\n",
      "Epoch: 8, epoch_loss: 223.82, epoch_correct: 47471\n",
      "Epoch: 9, epoch_loss: 187.55, epoch_correct: 47929\n",
      "Epoch: 10, epoch_loss: 159.47, epoch_correct: 48281\n"
     ]
    }
   ],
   "source": [
    "teacher = train(resnet18, optimizer, criterion, 10)"
   ]
  },
  {
   "cell_type": "code",
   "execution_count": 8,
   "metadata": {
    "colab": {
     "base_uri": "https://localhost:8080/",
     "height": 1000
    },
    "colab_type": "code",
    "id": "msDMYJl8DqYE",
    "outputId": "1c75c131-1f57-42a7-878d-caa90a72b420"
   },
   "outputs": [
    {
     "data": {
      "text/plain": [
       "ResNet(\n",
       "  (conv1): Conv2d(3, 64, kernel_size=(7, 7), stride=(2, 2), padding=(3, 3), bias=False)\n",
       "  (bn1): BatchNorm2d(64, eps=1e-05, momentum=0.1, affine=True, track_running_stats=True)\n",
       "  (relu): ReLU(inplace=True)\n",
       "  (maxpool): MaxPool2d(kernel_size=3, stride=2, padding=1, dilation=1, ceil_mode=False)\n",
       "  (layer1): Sequential(\n",
       "    (0): BasicBlock(\n",
       "      (conv1): Conv2d(64, 64, kernel_size=(3, 3), stride=(1, 1), padding=(1, 1), bias=False)\n",
       "      (bn1): BatchNorm2d(64, eps=1e-05, momentum=0.1, affine=True, track_running_stats=True)\n",
       "      (relu): ReLU(inplace=True)\n",
       "      (conv2): Conv2d(64, 64, kernel_size=(3, 3), stride=(1, 1), padding=(1, 1), bias=False)\n",
       "      (bn2): BatchNorm2d(64, eps=1e-05, momentum=0.1, affine=True, track_running_stats=True)\n",
       "    )\n",
       "    (1): BasicBlock(\n",
       "      (conv1): Conv2d(64, 64, kernel_size=(3, 3), stride=(1, 1), padding=(1, 1), bias=False)\n",
       "      (bn1): BatchNorm2d(64, eps=1e-05, momentum=0.1, affine=True, track_running_stats=True)\n",
       "      (relu): ReLU(inplace=True)\n",
       "      (conv2): Conv2d(64, 64, kernel_size=(3, 3), stride=(1, 1), padding=(1, 1), bias=False)\n",
       "      (bn2): BatchNorm2d(64, eps=1e-05, momentum=0.1, affine=True, track_running_stats=True)\n",
       "    )\n",
       "  )\n",
       "  (layer2): Sequential(\n",
       "    (0): BasicBlock(\n",
       "      (conv1): Conv2d(64, 128, kernel_size=(3, 3), stride=(2, 2), padding=(1, 1), bias=False)\n",
       "      (bn1): BatchNorm2d(128, eps=1e-05, momentum=0.1, affine=True, track_running_stats=True)\n",
       "      (relu): ReLU(inplace=True)\n",
       "      (conv2): Conv2d(128, 128, kernel_size=(3, 3), stride=(1, 1), padding=(1, 1), bias=False)\n",
       "      (bn2): BatchNorm2d(128, eps=1e-05, momentum=0.1, affine=True, track_running_stats=True)\n",
       "      (downsample): Sequential(\n",
       "        (0): Conv2d(64, 128, kernel_size=(1, 1), stride=(2, 2), bias=False)\n",
       "        (1): BatchNorm2d(128, eps=1e-05, momentum=0.1, affine=True, track_running_stats=True)\n",
       "      )\n",
       "    )\n",
       "    (1): BasicBlock(\n",
       "      (conv1): Conv2d(128, 128, kernel_size=(3, 3), stride=(1, 1), padding=(1, 1), bias=False)\n",
       "      (bn1): BatchNorm2d(128, eps=1e-05, momentum=0.1, affine=True, track_running_stats=True)\n",
       "      (relu): ReLU(inplace=True)\n",
       "      (conv2): Conv2d(128, 128, kernel_size=(3, 3), stride=(1, 1), padding=(1, 1), bias=False)\n",
       "      (bn2): BatchNorm2d(128, eps=1e-05, momentum=0.1, affine=True, track_running_stats=True)\n",
       "    )\n",
       "  )\n",
       "  (layer3): Sequential(\n",
       "    (0): BasicBlock(\n",
       "      (conv1): Conv2d(128, 256, kernel_size=(3, 3), stride=(2, 2), padding=(1, 1), bias=False)\n",
       "      (bn1): BatchNorm2d(256, eps=1e-05, momentum=0.1, affine=True, track_running_stats=True)\n",
       "      (relu): ReLU(inplace=True)\n",
       "      (conv2): Conv2d(256, 256, kernel_size=(3, 3), stride=(1, 1), padding=(1, 1), bias=False)\n",
       "      (bn2): BatchNorm2d(256, eps=1e-05, momentum=0.1, affine=True, track_running_stats=True)\n",
       "      (downsample): Sequential(\n",
       "        (0): Conv2d(128, 256, kernel_size=(1, 1), stride=(2, 2), bias=False)\n",
       "        (1): BatchNorm2d(256, eps=1e-05, momentum=0.1, affine=True, track_running_stats=True)\n",
       "      )\n",
       "    )\n",
       "    (1): BasicBlock(\n",
       "      (conv1): Conv2d(256, 256, kernel_size=(3, 3), stride=(1, 1), padding=(1, 1), bias=False)\n",
       "      (bn1): BatchNorm2d(256, eps=1e-05, momentum=0.1, affine=True, track_running_stats=True)\n",
       "      (relu): ReLU(inplace=True)\n",
       "      (conv2): Conv2d(256, 256, kernel_size=(3, 3), stride=(1, 1), padding=(1, 1), bias=False)\n",
       "      (bn2): BatchNorm2d(256, eps=1e-05, momentum=0.1, affine=True, track_running_stats=True)\n",
       "    )\n",
       "  )\n",
       "  (layer4): Sequential(\n",
       "    (0): BasicBlock(\n",
       "      (conv1): Conv2d(256, 512, kernel_size=(3, 3), stride=(2, 2), padding=(1, 1), bias=False)\n",
       "      (bn1): BatchNorm2d(512, eps=1e-05, momentum=0.1, affine=True, track_running_stats=True)\n",
       "      (relu): ReLU(inplace=True)\n",
       "      (conv2): Conv2d(512, 512, kernel_size=(3, 3), stride=(1, 1), padding=(1, 1), bias=False)\n",
       "      (bn2): BatchNorm2d(512, eps=1e-05, momentum=0.1, affine=True, track_running_stats=True)\n",
       "      (downsample): Sequential(\n",
       "        (0): Conv2d(256, 512, kernel_size=(1, 1), stride=(2, 2), bias=False)\n",
       "        (1): BatchNorm2d(512, eps=1e-05, momentum=0.1, affine=True, track_running_stats=True)\n",
       "      )\n",
       "    )\n",
       "    (1): BasicBlock(\n",
       "      (conv1): Conv2d(512, 512, kernel_size=(3, 3), stride=(1, 1), padding=(1, 1), bias=False)\n",
       "      (bn1): BatchNorm2d(512, eps=1e-05, momentum=0.1, affine=True, track_running_stats=True)\n",
       "      (relu): ReLU(inplace=True)\n",
       "      (conv2): Conv2d(512, 512, kernel_size=(3, 3), stride=(1, 1), padding=(1, 1), bias=False)\n",
       "      (bn2): BatchNorm2d(512, eps=1e-05, momentum=0.1, affine=True, track_running_stats=True)\n",
       "    )\n",
       "  )\n",
       "  (avgpool): AdaptiveAvgPool2d(output_size=(1, 1))\n",
       "  (fc): Linear(in_features=512, out_features=10, bias=True)\n",
       ")"
      ]
     },
     "execution_count": 8,
     "metadata": {
      "tags": []
     },
     "output_type": "execute_result"
    }
   ],
   "source": [
    "teacher.eval()"
   ]
  },
  {
   "cell_type": "code",
   "execution_count": 9,
   "metadata": {
    "colab": {
     "base_uri": "https://localhost:8080/",
     "height": 35
    },
    "colab_type": "code",
    "id": "CDFL8zYWHhrP",
    "outputId": "eef6a857-283b-4c3d-cee9-ce230f8c0111"
   },
   "outputs": [
    {
     "name": "stdout",
     "output_type": "stream",
     "text": [
      "Accuracy =  0.8287999629974365\n"
     ]
    }
   ],
   "source": [
    "acc = test(teacher)\n",
    "print(\"Accuracy = \", acc.item())"
   ]
  },
  {
   "cell_type": "code",
   "execution_count": 0,
   "metadata": {
    "colab": {},
    "colab_type": "code",
    "id": "9C2OdyCWF3Z3"
   },
   "outputs": [],
   "source": [
    "class Learner(nn.Module):\n",
    "    def __init__(self):\n",
    "        super(Learner, self).__init__()\n",
    "\n",
    "        self.conv1 = nn.Conv2d(3, 6, kernel_size = 5)\n",
    "        self.pool = nn.MaxPool2d(2, 2)\n",
    "        self.conv2 = nn.Conv2d(6, 16, kernel_size = 5)\n",
    "        self.linear1 = nn.Linear(16* 5* 5, 64)\n",
    "        self.linear2 = nn.Linear(64, 10)\n",
    "\n",
    "    def forward(self, img):\n",
    "        x = F.relu(self.conv1(img))\n",
    "        x = self.pool(x)\n",
    "        x = F.relu(self.conv2(x))\n",
    "        x = self.pool(x)\n",
    "        x = x.view(-1, 16* 5* 5)\n",
    "        x = F.relu(self.linear1(x))\n",
    "        x = self.linear2(x)\n",
    "    return x\n",
    "\n",
    "\n"
   ]
  },
  {
   "cell_type": "markdown",
   "metadata": {
    "colab_type": "text",
    "id": "2QkxVg6pUg-_"
   },
   "source": [
    "Посмотрим насколько может обучиться маленькая модель"
   ]
  },
  {
   "cell_type": "code",
   "execution_count": 11,
   "metadata": {
    "colab": {
     "base_uri": "https://localhost:8080/",
     "height": 195
    },
    "colab_type": "code",
    "id": "MzN-77bRTTKX",
    "outputId": "3ec36653-6c67-40cd-cfcf-ed9480f32416"
   },
   "outputs": [
    {
     "name": "stdout",
     "output_type": "stream",
     "text": [
      "Epoch: 1, epoch_loss: 2457.7, epoch_correct: 21453\n",
      "Epoch: 2, epoch_loss: 2005.2, epoch_correct: 27185\n",
      "Epoch: 3, epoch_loss: 1834.1, epoch_correct: 29266\n",
      "Epoch: 4, epoch_loss: 1717.9, epoch_correct: 30662\n",
      "Epoch: 5, epoch_loss: 1631.4, epoch_correct: 31679\n",
      "Epoch: 6, epoch_loss: 1560.1, epoch_correct: 32363\n",
      "Epoch: 7, epoch_loss: 1512.7, epoch_correct: 33084\n",
      "Epoch: 8, epoch_loss: 1465.0, epoch_correct: 33547\n",
      "Epoch: 9, epoch_loss: 1428.2, epoch_correct: 33932\n",
      "Epoch: 10, epoch_loss: 1400.2, epoch_correct: 34164\n"
     ]
    }
   ],
   "source": [
    "learner_model = Learner()\n",
    "learner_model = learner_model.to(device)\n",
    "learner_opt = optim.Adam(learner_model.parameters(), lr=1e-3)\n",
    "learner_model = train(learner_model, learner_opt, criterion, 10)"
   ]
  },
  {
   "cell_type": "code",
   "execution_count": 12,
   "metadata": {
    "colab": {
     "base_uri": "https://localhost:8080/",
     "height": 35
    },
    "colab_type": "code",
    "id": "LDyiIcCWUXqN",
    "outputId": "adbcbd14-6f4a-43f7-88a1-a224bb966b7f"
   },
   "outputs": [
    {
     "name": "stdout",
     "output_type": "stream",
     "text": [
      "Learner Accuracy =  0.6327999830245972\n"
     ]
    }
   ],
   "source": [
    "acc = test(learner_model)\n",
    "print(\"Learner Accuracy = \", acc.item())"
   ]
  },
  {
   "cell_type": "code",
   "execution_count": 21,
   "metadata": {
    "colab": {
     "base_uri": "https://localhost:8080/",
     "height": 195
    },
    "colab_type": "code",
    "id": "Zxc6V3BzRtba",
    "outputId": "22750194-7379-41b7-92fc-b57d0f2cedd9"
   },
   "outputs": [
    {
     "name": "stdout",
     "output_type": "stream",
     "text": [
      "Epoch: 1, epoch_loss: 1268.2, epoch_correct: 21786\n",
      "Epoch: 2, epoch_loss: 1053.1, epoch_correct: 26807\n",
      "Epoch: 3, epoch_loss: 956.42, epoch_correct: 29173\n",
      "Epoch: 4, epoch_loss: 892.95, epoch_correct: 30559\n",
      "Epoch: 5, epoch_loss: 850.71, epoch_correct: 31565\n",
      "Epoch: 6, epoch_loss: 814.8, epoch_correct: 32325\n",
      "Epoch: 7, epoch_loss: 788.68, epoch_correct: 32894\n",
      "Epoch: 8, epoch_loss: 764.15, epoch_correct: 33565\n",
      "Epoch: 9, epoch_loss: 746.09, epoch_correct: 33979\n",
      "Epoch: 10, epoch_loss: 728.79, epoch_correct: 34218\n"
     ]
    }
   ],
   "source": [
    "learner = Learner()\n",
    "learner = learner.to(device)\n",
    "opt = optim.Adam(learner.parameters(), lr=1e-3)\n",
    "learner_distillation = train(learner, opt, criterion, 10, 0.5, teacher)"
   ]
  },
  {
   "cell_type": "code",
   "execution_count": 22,
   "metadata": {
    "colab": {
     "base_uri": "https://localhost:8080/",
     "height": 35
    },
    "colab_type": "code",
    "id": "nQ9WwllWVjAO",
    "outputId": "37a03fdf-b517-4c4c-be91-5bde2196f24b"
   },
   "outputs": [
    {
     "name": "stdout",
     "output_type": "stream",
     "text": [
      "Distillation Accuracy =  0.6523000001907349\n"
     ]
    }
   ],
   "source": [
    "acc = test(learner_distillation)\n",
    "print(\"Distillation Accuracy = \", acc.item())"
   ]
  }
 ],
 "metadata": {
  "accelerator": "GPU",
  "colab": {
   "name": "distillation.ipynb",
   "provenance": []
  },
  "kernelspec": {
   "display_name": "Python 3",
   "language": "python",
   "name": "python3"
  },
  "language_info": {
   "codemirror_mode": {
    "name": "ipython",
    "version": 3
   },
   "file_extension": ".py",
   "mimetype": "text/x-python",
   "name": "python",
   "nbconvert_exporter": "python",
   "pygments_lexer": "ipython3",
   "version": "3.7.3"
  }
 },
 "nbformat": 4,
 "nbformat_minor": 1
}
